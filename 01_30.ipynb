{
 "cells": [
  {
   "cell_type": "markdown",
   "id": "ec375470-7d79-42d9-b48f-ed8d37b9bd2a",
   "metadata": {},
   "source": [
    "forward backward asymmetry"
   ]
  },
  {
   "cell_type": "code",
   "execution_count": 2,
   "id": "eb1f0576-d66b-42c4-80c4-59af83925f0d",
   "metadata": {},
   "outputs": [],
   "source": [
    "import uproot\n",
    "import numpy as np\n",
    "import matplotlib.pyplot as plt\n",
    "import hist\n",
    "import mplhep as hep\n",
    "import scipy.stats as stats\n",
    "from scipy.stats import chisquare\n",
    "import scipy\n",
    "from scipy.optimize import curve_fit\n",
    "from scipy.interpolate import make_interp_spline"
   ]
  },
  {
   "cell_type": "code",
   "execution_count": 3,
   "id": "3944dfef-e1c7-4e2c-b311-78c52ceba84e",
   "metadata": {},
   "outputs": [],
   "source": [
    "f=uproot.open(\"/home/submit/chowb/fccee/FCCAnalyzer/tmp/output_xsec_example.root\")"
   ]
  },
  {
   "cell_type": "code",
   "execution_count": 4,
   "id": "8d9b02ff-d671-4716-b6b7-89bf504b8df1",
   "metadata": {},
   "outputs": [
    {
     "data": {
      "text/plain": [
       "['p8_ee_Zmumu_ecm91;1',\n",
       " 'p8_ee_Zmumu_ecm91/gen_muons_p;1',\n",
       " 'p8_ee_Zmumu_ecm91/gen_muons_theta;1',\n",
       " 'p8_ee_Zmumu_ecm91/gen_muons_phi;1',\n",
       " 'p8_ee_Zmumu_ecm91/gen_muons_no;1',\n",
       " 'p8_ee_Zmumu_ecm91/evts_initial;1',\n",
       " 'p8_ee_Zmumu_ecm91/leps_all_p;1',\n",
       " 'p8_ee_Zmumu_ecm91/leps_all_theta;1',\n",
       " 'p8_ee_Zmumu_ecm91/leps_all_phi;1',\n",
       " 'p8_ee_Zmumu_ecm91/leps_all_q;1',\n",
       " 'p8_ee_Zmumu_ecm91/leps_all_no;1',\n",
       " 'p8_ee_Zmumu_ecm91/m_inv;1',\n",
       " 'p8_ee_Zmumu_ecm91/emiss;1',\n",
       " 'p8_ee_Zmumu_ecm91/acolinearity;1',\n",
       " 'p8_ee_Zmumu_ecm91/max_p;1',\n",
       " 'p8_ee_Zmumu_ecm91/visibleEnergy;1',\n",
       " 'p8_ee_Zmumu_ecm91/theta_plus;1',\n",
       " 'p8_ee_Zmumu_ecm91/theta_minus;1',\n",
       " 'p8_ee_Zmumu_ecm91/cos_theta_plus;1',\n",
       " 'p8_ee_Zmumu_ecm91/cos_theta_minus;1',\n",
       " 'p8_ee_Zmumu_ecm91/cosThetac;1',\n",
       " 'p8_ee_Zmumu_ecm91/evts_final;1',\n",
       " 'p8_ee_Zmumu_ecm91/meta;1',\n",
       " 'p8_ee_Ztautau_ecm91;1',\n",
       " 'p8_ee_Ztautau_ecm91/gen_muons_p;1',\n",
       " 'p8_ee_Ztautau_ecm91/gen_muons_theta;1',\n",
       " 'p8_ee_Ztautau_ecm91/gen_muons_phi;1',\n",
       " 'p8_ee_Ztautau_ecm91/gen_muons_no;1',\n",
       " 'p8_ee_Ztautau_ecm91/evts_initial;1',\n",
       " 'p8_ee_Ztautau_ecm91/leps_all_p;1',\n",
       " 'p8_ee_Ztautau_ecm91/leps_all_theta;1',\n",
       " 'p8_ee_Ztautau_ecm91/leps_all_phi;1',\n",
       " 'p8_ee_Ztautau_ecm91/leps_all_q;1',\n",
       " 'p8_ee_Ztautau_ecm91/leps_all_no;1',\n",
       " 'p8_ee_Ztautau_ecm91/m_inv;1',\n",
       " 'p8_ee_Ztautau_ecm91/emiss;1',\n",
       " 'p8_ee_Ztautau_ecm91/acolinearity;1',\n",
       " 'p8_ee_Ztautau_ecm91/max_p;1',\n",
       " 'p8_ee_Ztautau_ecm91/visibleEnergy;1',\n",
       " 'p8_ee_Ztautau_ecm91/theta_plus;1',\n",
       " 'p8_ee_Ztautau_ecm91/theta_minus;1',\n",
       " 'p8_ee_Ztautau_ecm91/cos_theta_plus;1',\n",
       " 'p8_ee_Ztautau_ecm91/cos_theta_minus;1',\n",
       " 'p8_ee_Ztautau_ecm91/cosThetac;1',\n",
       " 'p8_ee_Ztautau_ecm91/evts_final;1',\n",
       " 'p8_ee_Ztautau_ecm91/meta;1',\n",
       " 'wzp6_gaga_mumu_5_ecm91p2;1',\n",
       " 'wzp6_gaga_mumu_5_ecm91p2/gen_muons_p;1',\n",
       " 'wzp6_gaga_mumu_5_ecm91p2/gen_muons_theta;1',\n",
       " 'wzp6_gaga_mumu_5_ecm91p2/gen_muons_phi;1',\n",
       " 'wzp6_gaga_mumu_5_ecm91p2/gen_muons_no;1',\n",
       " 'wzp6_gaga_mumu_5_ecm91p2/evts_initial;1',\n",
       " 'wzp6_gaga_mumu_5_ecm91p2/leps_all_p;1',\n",
       " 'wzp6_gaga_mumu_5_ecm91p2/leps_all_theta;1',\n",
       " 'wzp6_gaga_mumu_5_ecm91p2/leps_all_phi;1',\n",
       " 'wzp6_gaga_mumu_5_ecm91p2/leps_all_q;1',\n",
       " 'wzp6_gaga_mumu_5_ecm91p2/leps_all_no;1',\n",
       " 'wzp6_gaga_mumu_5_ecm91p2/m_inv;1',\n",
       " 'wzp6_gaga_mumu_5_ecm91p2/emiss;1',\n",
       " 'wzp6_gaga_mumu_5_ecm91p2/acolinearity;1',\n",
       " 'wzp6_gaga_mumu_5_ecm91p2/max_p;1',\n",
       " 'wzp6_gaga_mumu_5_ecm91p2/visibleEnergy;1',\n",
       " 'wzp6_gaga_mumu_5_ecm91p2/theta_plus;1',\n",
       " 'wzp6_gaga_mumu_5_ecm91p2/theta_minus;1',\n",
       " 'wzp6_gaga_mumu_5_ecm91p2/cos_theta_plus;1',\n",
       " 'wzp6_gaga_mumu_5_ecm91p2/cos_theta_minus;1',\n",
       " 'wzp6_gaga_mumu_5_ecm91p2/cosThetac;1',\n",
       " 'wzp6_gaga_mumu_5_ecm91p2/evts_final;1',\n",
       " 'wzp6_gaga_mumu_5_ecm91p2/meta;1']"
      ]
     },
     "execution_count": 4,
     "metadata": {},
     "output_type": "execute_result"
    }
   ],
   "source": [
    "f.keys()"
   ]
  },
  {
   "cell_type": "code",
   "execution_count": 5,
   "id": "49f3273b-d70a-4827-8dd0-88d22f841f6f",
   "metadata": {},
   "outputs": [
    {
     "name": "stdout",
     "output_type": "stream",
     "text": [
      "198591928587.80002\n"
     ]
    },
    {
     "data": {
      "image/png": "[encoded data removed]",
      "text/plain": [
       "<Figure size 640x480 with 1 Axes>"
      ]
     },
     "metadata": {},
     "output_type": "display_data"
    }
   ],
   "source": [
    "theta_mumu = f['p8_ee_Zmumu_ecm91/cosThetac;1']\n",
    "y1,x = theta_mumu.to_numpy()\n",
    "theta_tautau = f['p8_ee_Ztautau_ecm91/cosThetac;1']\n",
    "theta_gaga = f['wzp6_gaga_mumu_5_ecm91p2/cosThetac;1']\n",
    "\n",
    "hep.histplot([theta_mumu, theta_tautau, theta_gaga], label = [\"$μ^+μ^-$\", \"$τ^+τ^-$\", \"background\"], color = ['palevioletred', 'lightpink', 'darkgrey'], histtype = 'fill')\n",
    "\n",
    "plt.legend()\n",
    "plt.yscale(\"log\")\n",
    "plt.xlabel(\"$\\cos(\\\\theta_c)$\")\n",
    "plt.ylabel(\"events\")\n",
    "\n",
    "a_fb = np.sum(y1, initial = -1)\n",
    "print(a_fb)"
   ]
  },
  {
   "cell_type": "code",
   "execution_count": 6,
   "id": "8c2fa513-03b9-4bcf-b913-746ff12cc552",
   "metadata": {},
   "outputs": [
    {
     "name": "stdout",
     "output_type": "stream",
     "text": [
      "WeightedSum(value=9.69594e+10, variance=2.12644e+15)\n",
      "WeightedSum(value=1.01633e+11, variance=2.22892e+15)\n",
      "-0.023531610040789724\n",
      "2.2433597708660606e-06\n",
      "-9.53338835284716e-05\n"
     ]
    }
   ],
   "source": [
    "h_mumu = f['p8_ee_Zmumu_ecm91/cosThetac'].to_hist()\n",
    "\n",
    "xsec_f = h_mumu[0.0j:1.0j].sum()\n",
    "xsec_b = h_mumu[-1.0j:0.0j].sum()\n",
    "print(xsec_f)\n",
    "print(xsec_b)\n",
    "\n",
    "a_fb = (xsec_f.value-xsec_b.value)/(xsec_f.value+xsec_b.value)\n",
    "print(a_fb)\n",
    "\n",
    "variance = (4 * xsec_b.value * xsec_f.value)/((xsec_f.value + xsec_b.value)**3)\n",
    "\n",
    "uncertainty = np.sqrt(variance)\n",
    "print(uncertainty)\n",
    "\n",
    "rel_uncertainty = uncertainty/a_fb\n",
    "print(rel_uncertainty)"
   ]
  },
  {
   "cell_type": "code",
   "execution_count": 16,
   "id": "2db49b86-f633-4278-94ce-e95bd9e7d219",
   "metadata": {},
   "outputs": [
    {
     "name": "stdout",
     "output_type": "stream",
     "text": [
      "[2.98069132e+09 3.01251349e+09 2.95347470e+09 2.90827450e+09\n",
      " 2.83625244e+09 2.79368398e+09 2.74637838e+09 2.67545288e+09\n",
      " 2.63327918e+09 2.57628000e+09 2.52741728e+09 2.48489268e+09\n",
      " 2.43363947e+09 2.37911851e+09 2.33398410e+09 2.28852072e+09\n",
      " 2.25248776e+09 2.20763845e+09 2.17395213e+09 2.13090119e+09\n",
      " 2.09184172e+09 2.05631317e+09 2.00637583e+09 1.98477360e+09\n",
      " 1.95722801e+09 1.91422093e+09 1.89051330e+09 1.86564332e+09\n",
      " 1.83763718e+09 1.81009159e+09 1.77741410e+09 1.76888287e+09\n",
      " 1.73403419e+09 1.71594095e+09 1.68887785e+09 1.67269262e+09\n",
      " 1.65598105e+09 1.64426979e+09 1.62018933e+09 1.60602178e+09\n",
      " 1.57838846e+09 1.59086732e+09 1.56884839e+09 1.56792728e+09\n",
      " 1.55029460e+09 1.53840789e+09 1.53799119e+09 1.54643471e+09\n",
      " 1.52562200e+09 1.53779381e+09 1.53825437e+09 1.53257419e+09\n",
      " 1.53285929e+09 1.53174080e+09 1.54625926e+09 1.54472407e+09\n",
      " 1.54946121e+09 1.56402353e+09 1.57319077e+09 1.58051579e+09\n",
      " 1.58887158e+09 1.60404797e+09 1.62299652e+09 1.64207667e+09\n",
      " 1.63567276e+09 1.66867921e+09 1.67492961e+09 1.70208043e+09\n",
      " 1.73684138e+09 1.74980272e+09 1.78210738e+09 1.80399472e+09\n",
      " 1.82307486e+09 1.85180473e+09 1.87873625e+09 1.92060291e+09\n",
      " 1.94113051e+09 1.99001516e+09 2.01626680e+09 2.05041368e+09\n",
      " 2.07802506e+09 2.11886096e+09 2.16099079e+09 2.20662962e+09\n",
      " 2.24011856e+09 2.27185301e+09 2.34378734e+09 2.37922816e+09\n",
      " 2.42552493e+09 2.47094444e+09 2.51952205e+09 2.57055595e+09\n",
      " 2.62751128e+09 2.67874256e+09 2.72861411e+09 2.78877139e+09\n",
      " 2.82550615e+09 2.80864106e+09]\n",
      "[ 3.92145107e+09 -2.32816409e-02]\n"
     ]
    },
    {
     "data": {
      "image/png": "[encoded data removed]",
      "text/plain": [
       "<Figure size 640x480 with 1 Axes>"
      ]
     },
     "metadata": {},
     "output_type": "display_data"
    }
   ],
   "source": [
    "import math\n",
    "\n",
    "h = f['p8_ee_Zmumu_ecm91/cosThetac;1']\n",
    "\n",
    "x = h.axes[0].centers()\n",
    "y = h.values()\n",
    "\n",
    "new_x = np.delete(x, [0, -1])\n",
    "new_y = np.delete(y, [0, -1])\n",
    "\n",
    "print(new_y)\n",
    "\n",
    "plt.scatter(x,y, color='palevioletred', label = \"$\\cos{\\\\theta_c}$\")\n",
    "plt.ylabel(\"$\\\\frac{d\\\\sigma(s)}{dcos(\\\\theta_c)}[nb]$\")\n",
    "plt.xlabel(\"$\\cos{\\\\theta_c}$\")\n",
    "#plt.text(-0.5, 1.1e9, s = \"measured differential cross section\")\n",
    "\n",
    "def func(cos_theta, sigma, A):\n",
    "    return sigma*((3/8)*(1+(cos_theta)**2)+(A*cos_theta))\n",
    "\n",
    "popt, pcov = curve_fit(func, np.array(x), np.array(y), p0 = (1e9, -0.0235))\n",
    "plt.plot(np.linspace(-1,1,100), func(np.linspace(-1,1,100),*popt),color='lightpink',label='$\\\\sigma(s)[\\\\frac{3}{8}(1+cos^2(\\\\theta_c))+A_{FB}(s)\\cos{\\\\theta_c}]$')\n",
    "plt.legend()\n",
    "\n",
    "print(popt)"
   ]
  },
  {
   "cell_type": "code",
   "execution_count": 8,
   "id": "15542c2b-28bf-458e-bab3-9e69110f95fb",
   "metadata": {},
   "outputs": [
    {
     "name": "stdout",
     "output_type": "stream",
     "text": [
      "0.9888423279034864\n"
     ]
    }
   ],
   "source": [
    "ratio = a_fb/popt[1]\n",
    "print(ratio)"
   ]
  },
  {
   "cell_type": "code",
   "execution_count": 9,
   "id": "2c9ce23e-4664-4df2-bcf3-22a2159b3b23",
   "metadata": {},
   "outputs": [
    {
     "name": "stdout",
     "output_type": "stream",
     "text": [
      "0.0002655205803081123\n"
     ]
    }
   ],
   "source": [
    "difference = a_fb - popt[1]\n",
    "print(difference)"
   ]
  },
  {
   "cell_type": "code",
   "execution_count": 10,
   "id": "e399346b-ee2e-496e-a6e6-978c5b19d36b",
   "metadata": {},
   "outputs": [
    {
     "name": "stdout",
     "output_type": "stream",
     "text": [
      "0.06759014504291733\n",
      "94\n",
      "0.06759014504291733\n"
     ]
    }
   ],
   "source": [
    "chi2 = np.sum((func(new_x, *popt) - new_y)/(new_y))\n",
    "print(chi2)\n",
    "\n",
    "ddof = len(new_x) - len(popt)\n",
    "print(ddof)\n",
    "\n",
    "print(chi2)"
   ]
  },
  {
   "cell_type": "code",
   "execution_count": 11,
   "id": "b8116f1e-5774-4fe4-ba9b-578e3fb89240",
   "metadata": {},
   "outputs": [
    {
     "name": "stdout",
     "output_type": "stream",
     "text": [
      "[[2.14730315e+12 1.24677794e+01]\n",
      " [1.24677794e+01 1.04484944e-07]]\n",
      "0.0003232413091782026\n"
     ]
    }
   ],
   "source": [
    "print(pcov)\n",
    "var_afb = pcov[1,1]\n",
    "afb_uncertainty = np.sqrt(var_afb)\n",
    "print(afb_uncertainty)"
   ]
  },
  {
   "cell_type": "code",
   "execution_count": 12,
   "id": "4ac57573-50ab-4641-81a6-6eaefcd0a6ca",
   "metadata": {},
   "outputs": [
    {
     "name": "stdout",
     "output_type": "stream",
     "text": [
      "WeightedSum(value=9.69594e+10, variance=2.12644e+15)\n",
      "WeightedSum(value=1.01633e+11, variance=2.22892e+15)\n"
     ]
    }
   ],
   "source": [
    "print(xsec_f)\n",
    "print(xsec_b)"
   ]
  },
  {
   "cell_type": "code",
   "execution_count": 13,
   "id": "5ade1e41-2746-4b22-9881-843e8b9bc2bb",
   "metadata": {},
   "outputs": [
    {
     "name": "stdout",
     "output_type": "stream",
     "text": [
      "[0.00000000e+00 2.98069132e+09 3.01251349e+09 2.95347470e+09\n",
      " 2.90827450e+09 2.83625244e+09 2.79368398e+09 2.74637838e+09\n",
      " 2.67545288e+09 2.63327918e+09 2.57628000e+09 2.52741728e+09\n",
      " 2.48489268e+09 2.43363947e+09 2.37911851e+09 2.33398410e+09\n",
      " 2.28852072e+09 2.25248776e+09 2.20763845e+09 2.17395213e+09\n",
      " 2.13090119e+09 2.09184172e+09 2.05631317e+09 2.00637583e+09\n",
      " 1.98477360e+09 1.95722801e+09 1.91422093e+09 1.89051330e+09\n",
      " 1.86564332e+09 1.83763718e+09 1.81009159e+09 1.77741410e+09\n",
      " 1.76888287e+09 1.73403419e+09 1.71594095e+09 1.68887785e+09\n",
      " 1.67269262e+09 1.65598105e+09 1.64426979e+09 1.62018933e+09\n",
      " 1.60602178e+09 1.57838846e+09 1.59086732e+09 1.56884839e+09\n",
      " 1.56792728e+09 1.55029460e+09 1.53840789e+09 1.53799119e+09\n",
      " 1.54643471e+09 1.52562200e+09 1.53779381e+09 1.53825437e+09\n",
      " 1.53257419e+09 1.53285929e+09 1.53174080e+09 1.54625926e+09\n",
      " 1.54472407e+09 1.54946121e+09 1.56402353e+09 1.57319077e+09\n",
      " 1.58051579e+09 1.58887158e+09 1.60404797e+09 1.62299652e+09\n",
      " 1.64207667e+09 1.63567276e+09 1.66867921e+09 1.67492961e+09\n",
      " 1.70208043e+09 1.73684138e+09 1.74980272e+09 1.78210738e+09\n",
      " 1.80399472e+09 1.82307486e+09 1.85180473e+09 1.87873625e+09\n",
      " 1.92060291e+09 1.94113051e+09 1.99001516e+09 2.01626680e+09\n",
      " 2.05041368e+09 2.07802506e+09 2.11886096e+09 2.16099079e+09\n",
      " 2.20662962e+09 2.24011856e+09 2.27185301e+09 2.34378734e+09\n",
      " 2.37922816e+09 2.42552493e+09 2.47094444e+09 2.51952205e+09\n",
      " 2.57055595e+09 2.62751128e+09 2.67874256e+09 2.72861411e+09\n",
      " 2.78877139e+09 2.82550615e+09 2.80864106e+09 0.00000000e+00] [-1.   -0.98 -0.96 -0.94 -0.92 -0.9  -0.88 -0.86 -0.84 -0.82 -0.8  -0.78\n",
      " -0.76 -0.74 -0.72 -0.7  -0.68 -0.66 -0.64 -0.62 -0.6  -0.58 -0.56 -0.54\n",
      " -0.52 -0.5  -0.48 -0.46 -0.44 -0.42 -0.4  -0.38 -0.36 -0.34 -0.32 -0.3\n",
      " -0.28 -0.26 -0.24 -0.22 -0.2  -0.18 -0.16 -0.14 -0.12 -0.1  -0.08 -0.06\n",
      " -0.04 -0.02  0.    0.02  0.04  0.06  0.08  0.1   0.12  0.14  0.16  0.18\n",
      "  0.2   0.22  0.24  0.26  0.28  0.3   0.32  0.34  0.36  0.38  0.4   0.42\n",
      "  0.44  0.46  0.48  0.5   0.52  0.54  0.56  0.58  0.6   0.62  0.64  0.66\n",
      "  0.68  0.7   0.72  0.74  0.76  0.78  0.8   0.82  0.84  0.86  0.88  0.9\n",
      "  0.92  0.94  0.96  0.98  1.  ]\n"
     ]
    }
   ],
   "source": [
    "h = f['p8_ee_Zmumu_ecm91/cosThetac;1']\n",
    "y,x = h.to_numpy()\n",
    "print(y,x)"
   ]
  },
  {
   "cell_type": "code",
   "execution_count": null,
   "id": "56c9bea7-b5fc-4ab0-aa31-5c3fde3d19fe",
   "metadata": {},
   "outputs": [],
   "source": []
  },
  {
   "cell_type": "code",
   "execution_count": null,
   "id": "e159b438-9dc0-48cf-8883-bf9f8c5c5743",
   "metadata": {},
   "outputs": [],
   "source": []
  }
 ],
 "metadata": {
  "kernelspec": {
   "display_name": "fcc",
   "language": "python",
   "name": "fcc"
  },
  "language_info": {
   "codemirror_mode": {
    "name": "ipython",
    "version": 3
   },
   "file_extension": ".py",
   "mimetype": "text/x-python",
   "name": "python",
   "nbconvert_exporter": "python",
   "pygments_lexer": "ipython3",
   "version": "3.11.0"
  }
 },
 "nbformat": 4,
 "nbformat_minor": 5
}
